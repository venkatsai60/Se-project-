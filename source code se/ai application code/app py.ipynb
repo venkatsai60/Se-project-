{
 "cells": [
  {
   "cell_type": "code",
   "execution_count": null,
   "metadata": {},
   "outputs": [],
   "source": [
    "from flask import Flask, jsonify, request, session\n",
    "from flask_cors import CORS\n",
    "\n",
    "app = Flask(__name__)\n",
    "app.secret_key = \"supersecretkey\"\n",
    "CORS(app)\n",
    "\n",
    "# Mock product data\n",
    "products = [\n",
    "    {\"id\": 1, \"name\": \"Yellow Cotton Dog Suit\", \"price\": 19.95, \"description\": \"A cozy cotton suit.\", \"sizes\": [\"S\", \"M\", \"L\"], \"image\": \"yellow-dog-suit.jpg\"},\n",
    "    {\"id\": 2, \"name\": \"French Fries Dog Suit\", \"price\": 49.95, \"description\": \"Cute fries-themed suit.\", \"sizes\": [\"S\", \"M\", \"L\"], \"image\": \"french-fries-dog-suit.jpg\"},\n",
    "    {\"id\": 3, \"name\": \"Small Treat Bones\", \"price\": 19.95, \"description\": \"Delicious treats for dogs.\", \"weight\": [\"100g\", \"200g\"], \"image\": \"dog-treats.jpg\"},\n",
    "]\n",
    "\n",
    "@app.route(\"/api/products\", methods=[\"GET\"])\n",
    "def get_products():\n",
    "    return jsonify(products)\n",
    "\n",
    "@app.route(\"/api/product/<int:product_id>\", methods=[\"GET\"])\n",
    "def get_product(product_id):\n",
    "    product = next((p for p in products if p[\"id\"] == product_id), None)\n",
    "    if product:\n",
    "        return jsonify(product)\n",
    "    return jsonify({\"error\": \"Product not found\"}), 404\n",
    "\n",
    "@app.route(\"/api/cart\", methods=[\"POST\"])\n",
    "def add_to_cart():\n",
    "    if \"cart\" not in session:\n",
    "        session[\"cart\"] = []\n",
    "    data = request.json\n",
    "    product_id = data.get(\"product_id\")\n",
    "    session[\"cart\"].append(product_id)\n",
    "    return jsonify({\"message\": \"Added to cart\", \"cart\": session[\"cart\"]})\n",
    "\n",
    "@app.route(\"/api/cart\", methods=[\"GET\"])\n",
    "def view_cart():\n",
    "    cart_items = [p for p in products if p[\"id\"] in session.get(\"cart\", [])]\n",
    "    return jsonify(cart_items)\n",
    "\n",
    "@app.route(\"/api/checkout\", methods=[\"POST\"])\n",
    "def checkout():\n",
    "    session.pop(\"cart\", None)\n",
    "    return jsonify({\"message\": \"Checkout successful!\"})\n",
    "\n",
    "if __name__ == \"__main__\":\n",
    "    app.run(debug=True)\n"
   ]
  }
 ],
 "metadata": {
  "kernelspec": {
   "display_name": "Python 3",
   "language": "python",
   "name": "python3"
  },
  "language_info": {
   "name": "python",
   "version": "3.13.0"
  }
 },
 "nbformat": 4,
 "nbformat_minor": 2
}
