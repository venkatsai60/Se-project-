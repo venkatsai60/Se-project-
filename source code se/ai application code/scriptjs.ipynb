{
 "cells": [
  {
   "cell_type": "code",
   "execution_count": null,
   "metadata": {},
   "outputs": [],
   "source": [
    "// Fetch products dynamically and render on the page\n",
    "document.addEventListener(\"DOMContentLoaded\", () => {\n",
    "    axios.get(\"/api/products\")\n",
    "        .then(response => {\n",
    "            const products = response.data;\n",
    "            const productList = document.getElementById(\"product-list\");\n",
    "            products.forEach(product => {\n",
    "                const productCard = `\n",
    "                    <div class=\"product\">\n",
    "                        <img src=\"${product.image || 'placeholder.jpg'}\" alt=\"${product.name}\">\n",
    "                        <h3>${product.name}</h3>\n",
    "                        <p>₹${product.price.toFixed(2)}</p>\n",
    "                        <button onclick=\"viewProduct(${product.id})\">View Product</button>\n",
    "                    </div>\n",
    "                `;\n",
    "                productList.innerHTML += productCard;\n",
    "            });\n",
    "        })\n",
    "        .catch(error => console.error(\"Error fetching products:\", error));\n",
    "});\n",
    "\n",
    "function viewProduct(productId) {\n",
    "    window.location.href = `/product.html?id=${productId}`;\n",
    "}\n"
   ]
  }
 ],
 "metadata": {
  "kernelspec": {
   "display_name": "Python 3",
   "language": "python",
   "name": "python3"
  },
  "language_info": {
   "name": "python",
   "version": "3.13.0"
  }
 },
 "nbformat": 4,
 "nbformat_minor": 2
}
