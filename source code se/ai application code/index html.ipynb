{
 "cells": [
  {
   "cell_type": "code",
   "execution_count": null,
   "metadata": {},
   "outputs": [],
   "source": [
    "<!DOCTYPE html>\n",
    "<html lang=\"en\">\n",
    "<head>\n",
    "    <meta charset=\"UTF-8\">\n",
    "    <meta name=\"viewport\" content=\"width=device-width, initial-scale=1.0\">\n",
    "    <title>Catify Store</title>\n",
    "    <link rel=\"stylesheet\" href=\"styles.css\">\n",
    "    <script src=\"https://cdn.jsdelivr.net/npm/axios/dist/axios.min.js\"></script>\n",
    "</head>\n",
    "<body>\n",
    "    <header>\n",
    "        <div class=\"logo\">\n",
    "            <img src=\"logo.png\" alt=\"Catify Logo\">\n",
    "            <h1>Catify</h1>\n",
    "        </div>\n",
    "        <nav>\n",
    "            <ul>\n",
    "                <li><a href=\"#\" class=\"active\">Home</a></li>\n",
    "                <li><a href=\"#\">Clothing</a></li>\n",
    "                <li><a href=\"#\">Food</a></li>\n",
    "                <li><a href=\"#\">Payment Methods</a></li>\n",
    "                <li><a href=\"#\">Shipping & Delivery</a></li>\n",
    "            </ul>\n",
    "        </nav>\n",
    "    </header>\n",
    "    <main>\n",
    "        <section class=\"hero\">\n",
    "            <img src=\"hero-banner.jpg\" alt=\"Hero Banner\">\n",
    "            <div class=\"hero-text\">\n",
    "                <h2>Welcome to Catify</h2>\n",
    "                <p>Your one-stop shop for everything your furry friends need!</p>\n",
    "            </div>\n",
    "        </section>\n",
    "        <section class=\"products-section\">\n",
    "            <h2>Our Products</h2>\n",
    "            <div class=\"products\" id=\"product-list\">\n",
    "                <!-- Products will be dynamically rendered here -->\n",
    "            </div>\n",
    "        </section>\n",
    "    </main>\n",
    "    <footer>\n",
    "        <p>&copy; 2024 Catify. All rights reserved.</p>\n",
    "    </footer>\n",
    "    <script src=\"scripts.js\"></script>\n",
    "</body>\n",
    "</html>\n"
   ]
  }
 ],
 "metadata": {
  "kernelspec": {
   "display_name": "Python 3",
   "language": "python",
   "name": "python3"
  },
  "language_info": {
   "name": "python",
   "version": "3.13.0"
  }
 },
 "nbformat": 4,
 "nbformat_minor": 2
}
